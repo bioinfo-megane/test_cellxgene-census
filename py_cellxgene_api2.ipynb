{
 "cells": [
  {
   "attachments": {},
   "cell_type": "markdown",
   "metadata": {},
   "source": [
    "# Genes measured in each cell (dataset presence matrix)"
   ]
  },
  {
   "attachments": {},
   "cell_type": "markdown",
   "metadata": {},
   "source": [
    "## Opening the Census"
   ]
  },
  {
   "cell_type": "code",
   "execution_count": 1,
   "metadata": {},
   "outputs": [],
   "source": [
    "import numpy as np\n",
    "from scipy import sparse\n",
    "import cellxgene_census"
   ]
  },
  {
   "cell_type": "code",
   "execution_count": 2,
   "metadata": {},
   "outputs": [
    {
     "name": "stderr",
     "output_type": "stream",
     "text": [
      "The \"stable\" release is currently 2023-05-15. Specify 'census_version=\"2023-05-15\"' in future calls to open_soma() to ensure data consistency.\n"
     ]
    }
   ],
   "source": [
    "census = cellxgene_census.open_soma()"
   ]
  },
  {
   "attachments": {},
   "cell_type": "markdown",
   "metadata": {},
   "source": [
    "## Fetching the IDs of the Census datasets"
   ]
  },
  {
   "cell_type": "code",
   "execution_count": 3,
   "metadata": {},
   "outputs": [],
   "source": [
    "# Grab the experiment containing human data, and the measurement therein with RNA\n",
    "human = census[\"census_data\"][\"homo_sapiens\"]"
   ]
  },
  {
   "cell_type": "code",
   "execution_count": 4,
   "metadata": {},
   "outputs": [
    {
     "data": {
      "text/plain": [
       "<Experiment 's3://cellxgene-data-public/cell-census/2023-05-15/soma/census_data/homo_sapiens' (open for 'r') (2 items)\n",
       "    'ms': 's3://cellxgene-data-public/cell-census/2023-05-15/soma/census_data/homo_sapiens/ms' (unopened)\n",
       "    'obs': 's3://cellxgene-data-public/cell-census/2023-05-15/soma/census_data/homo_sapiens/obs' (unopened)>"
      ]
     },
     "execution_count": 4,
     "metadata": {},
     "output_type": "execute_result"
    }
   ],
   "source": [
    "human"
   ]
  },
  {
   "cell_type": "code",
   "execution_count": 5,
   "metadata": {},
   "outputs": [],
   "source": [
    "human_rna = human.ms[\"RNA\"]"
   ]
  },
  {
   "cell_type": "code",
   "execution_count": 6,
   "metadata": {},
   "outputs": [
    {
     "data": {
      "text/plain": [
       "<Measurement 's3://cellxgene-data-public/cell-census/2023-05-15/soma/census_data/homo_sapiens/ms/RNA' (open for 'r') (3 items)\n",
       "    'feature_dataset_presence_matrix': 's3://cellxgene-data-public/cell-census/2023-05-15/soma/census_data/homo_sapiens/ms/RNA/feature_dataset_presence_matrix' (unopened)\n",
       "    'var': 's3://cellxgene-data-public/cell-census/2023-05-15/soma/census_data/homo_sapiens/ms/RNA/var' (unopened)\n",
       "    'X': 's3://cellxgene-data-public/cell-census/2023-05-15/soma/census_data/homo_sapiens/ms/RNA/X' (unopened)>"
      ]
     },
     "execution_count": 6,
     "metadata": {},
     "output_type": "execute_result"
    }
   ],
   "source": [
    "human_rna"
   ]
  },
  {
   "cell_type": "code",
   "execution_count": 7,
   "metadata": {},
   "outputs": [],
   "source": [
    "# The census-wide datasets\n",
    "datasets_df = census[\"census_info\"][\"datasets\"].read().concat().to_pandas()"
   ]
  },
  {
   "cell_type": "code",
   "execution_count": 9,
   "metadata": {},
   "outputs": [
    {
     "data": {
      "text/html": [
       "<div>\n",
       "<style scoped>\n",
       "    .dataframe tbody tr th:only-of-type {\n",
       "        vertical-align: middle;\n",
       "    }\n",
       "\n",
       "    .dataframe tbody tr th {\n",
       "        vertical-align: top;\n",
       "    }\n",
       "\n",
       "    .dataframe thead th {\n",
       "        text-align: right;\n",
       "    }\n",
       "</style>\n",
       "<table border=\"1\" class=\"dataframe\">\n",
       "  <thead>\n",
       "    <tr style=\"text-align: right;\">\n",
       "      <th></th>\n",
       "      <th>soma_joinid</th>\n",
       "      <th>collection_id</th>\n",
       "      <th>collection_name</th>\n",
       "      <th>collection_doi</th>\n",
       "      <th>dataset_id</th>\n",
       "      <th>dataset_title</th>\n",
       "      <th>dataset_h5ad_path</th>\n",
       "      <th>dataset_total_cell_count</th>\n",
       "    </tr>\n",
       "  </thead>\n",
       "  <tbody>\n",
       "    <tr>\n",
       "      <th>0</th>\n",
       "      <td>0</td>\n",
       "      <td>6b701826-37bb-4356-9792-ff41fc4c3161</td>\n",
       "      <td>Abdominal White Adipose Tissue</td>\n",
       "      <td></td>\n",
       "      <td>9d8e5dca-03a3-457d-b7fb-844c75735c83</td>\n",
       "      <td>22 integrated samples</td>\n",
       "      <td>9d8e5dca-03a3-457d-b7fb-844c75735c83.h5ad</td>\n",
       "      <td>72335</td>\n",
       "    </tr>\n",
       "    <tr>\n",
       "      <th>1</th>\n",
       "      <td>1</td>\n",
       "      <td>4195ab4c-20bd-4cd3-8b3d-65601277e731</td>\n",
       "      <td>A spatially resolved single cell genomic atlas...</td>\n",
       "      <td></td>\n",
       "      <td>a6388a6f-6076-401b-9b30-7d4306a20035</td>\n",
       "      <td>scRNA-seq data - myeloid cells</td>\n",
       "      <td>a6388a6f-6076-401b-9b30-7d4306a20035.h5ad</td>\n",
       "      <td>30789</td>\n",
       "    </tr>\n",
       "    <tr>\n",
       "      <th>2</th>\n",
       "      <td>2</td>\n",
       "      <td>4195ab4c-20bd-4cd3-8b3d-65601277e731</td>\n",
       "      <td>A spatially resolved single cell genomic atlas...</td>\n",
       "      <td></td>\n",
       "      <td>842c6f5d-4a94-4eef-8510-8c792d1124bc</td>\n",
       "      <td>scRNA-seq data - all cells</td>\n",
       "      <td>842c6f5d-4a94-4eef-8510-8c792d1124bc.h5ad</td>\n",
       "      <td>714331</td>\n",
       "    </tr>\n",
       "    <tr>\n",
       "      <th>3</th>\n",
       "      <td>3</td>\n",
       "      <td>4195ab4c-20bd-4cd3-8b3d-65601277e731</td>\n",
       "      <td>A spatially resolved single cell genomic atlas...</td>\n",
       "      <td></td>\n",
       "      <td>74520626-b0ba-4ee9-86b5-714649554def</td>\n",
       "      <td>scRNA-seq data - T cells</td>\n",
       "      <td>74520626-b0ba-4ee9-86b5-714649554def.h5ad</td>\n",
       "      <td>76567</td>\n",
       "    </tr>\n",
       "    <tr>\n",
       "      <th>4</th>\n",
       "      <td>4</td>\n",
       "      <td>4195ab4c-20bd-4cd3-8b3d-65601277e731</td>\n",
       "      <td>A spatially resolved single cell genomic atlas...</td>\n",
       "      <td></td>\n",
       "      <td>396a9124-fb20-4822-bf9c-e93fdf7c999a</td>\n",
       "      <td>scRNA-seq data - B cells</td>\n",
       "      <td>396a9124-fb20-4822-bf9c-e93fdf7c999a.h5ad</td>\n",
       "      <td>12510</td>\n",
       "    </tr>\n",
       "  </tbody>\n",
       "</table>\n",
       "</div>"
      ],
      "text/plain": [
       "   soma_joinid                         collection_id  \\\n",
       "0            0  6b701826-37bb-4356-9792-ff41fc4c3161   \n",
       "1            1  4195ab4c-20bd-4cd3-8b3d-65601277e731   \n",
       "2            2  4195ab4c-20bd-4cd3-8b3d-65601277e731   \n",
       "3            3  4195ab4c-20bd-4cd3-8b3d-65601277e731   \n",
       "4            4  4195ab4c-20bd-4cd3-8b3d-65601277e731   \n",
       "\n",
       "                                     collection_name collection_doi  \\\n",
       "0                     Abdominal White Adipose Tissue                  \n",
       "1  A spatially resolved single cell genomic atlas...                  \n",
       "2  A spatially resolved single cell genomic atlas...                  \n",
       "3  A spatially resolved single cell genomic atlas...                  \n",
       "4  A spatially resolved single cell genomic atlas...                  \n",
       "\n",
       "                             dataset_id                   dataset_title  \\\n",
       "0  9d8e5dca-03a3-457d-b7fb-844c75735c83           22 integrated samples   \n",
       "1  a6388a6f-6076-401b-9b30-7d4306a20035  scRNA-seq data - myeloid cells   \n",
       "2  842c6f5d-4a94-4eef-8510-8c792d1124bc      scRNA-seq data - all cells   \n",
       "3  74520626-b0ba-4ee9-86b5-714649554def        scRNA-seq data - T cells   \n",
       "4  396a9124-fb20-4822-bf9c-e93fdf7c999a        scRNA-seq data - B cells   \n",
       "\n",
       "                           dataset_h5ad_path  dataset_total_cell_count  \n",
       "0  9d8e5dca-03a3-457d-b7fb-844c75735c83.h5ad                     72335  \n",
       "1  a6388a6f-6076-401b-9b30-7d4306a20035.h5ad                     30789  \n",
       "2  842c6f5d-4a94-4eef-8510-8c792d1124bc.h5ad                    714331  \n",
       "3  74520626-b0ba-4ee9-86b5-714649554def.h5ad                     76567  \n",
       "4  396a9124-fb20-4822-bf9c-e93fdf7c999a.h5ad                     12510  "
      ]
     },
     "execution_count": 9,
     "metadata": {},
     "output_type": "execute_result"
    }
   ],
   "source": [
    "datasets_df.head()"
   ]
  },
  {
   "attachments": {},
   "cell_type": "markdown",
   "metadata": {},
   "source": [
    "## Fetching the dataset presence matrix"
   ]
  },
  {
   "cell_type": "code",
   "execution_count": 10,
   "metadata": {},
   "outputs": [],
   "source": [
    "presence_matrix = cellxgene_census.get_presence_matrix(census, organism=\"Homo sapiens\", measurement_name=\"RNA\")"
   ]
  },
  {
   "cell_type": "code",
   "execution_count": 11,
   "metadata": {},
   "outputs": [
    {
     "data": {
      "text/plain": [
       "<562x60664 sparse matrix of type '<class 'numpy.uint8'>'\n",
       "\twith 14829450 stored elements in Compressed Sparse Row format>"
      ]
     },
     "execution_count": 11,
     "metadata": {},
     "output_type": "execute_result"
    }
   ],
   "source": [
    "presence_matrix"
   ]
  },
  {
   "cell_type": "code",
   "execution_count": 12,
   "metadata": {},
   "outputs": [],
   "source": [
    "var_df = human_rna.var.read().concat().to_pandas()"
   ]
  },
  {
   "cell_type": "code",
   "execution_count": 13,
   "metadata": {},
   "outputs": [
    {
     "data": {
      "text/html": [
       "<div>\n",
       "<style scoped>\n",
       "    .dataframe tbody tr th:only-of-type {\n",
       "        vertical-align: middle;\n",
       "    }\n",
       "\n",
       "    .dataframe tbody tr th {\n",
       "        vertical-align: top;\n",
       "    }\n",
       "\n",
       "    .dataframe thead th {\n",
       "        text-align: right;\n",
       "    }\n",
       "</style>\n",
       "<table border=\"1\" class=\"dataframe\">\n",
       "  <thead>\n",
       "    <tr style=\"text-align: right;\">\n",
       "      <th></th>\n",
       "      <th>soma_joinid</th>\n",
       "      <th>feature_id</th>\n",
       "      <th>feature_name</th>\n",
       "      <th>feature_length</th>\n",
       "    </tr>\n",
       "  </thead>\n",
       "  <tbody>\n",
       "    <tr>\n",
       "      <th>0</th>\n",
       "      <td>0</td>\n",
       "      <td>ENSG00000243485</td>\n",
       "      <td>MIR1302-2HG</td>\n",
       "      <td>1021</td>\n",
       "    </tr>\n",
       "    <tr>\n",
       "      <th>1</th>\n",
       "      <td>1</td>\n",
       "      <td>ENSG00000237613</td>\n",
       "      <td>FAM138A</td>\n",
       "      <td>1219</td>\n",
       "    </tr>\n",
       "    <tr>\n",
       "      <th>2</th>\n",
       "      <td>2</td>\n",
       "      <td>ENSG00000186092</td>\n",
       "      <td>OR4F5</td>\n",
       "      <td>2618</td>\n",
       "    </tr>\n",
       "    <tr>\n",
       "      <th>3</th>\n",
       "      <td>3</td>\n",
       "      <td>ENSG00000238009</td>\n",
       "      <td>RP11-34P13.7</td>\n",
       "      <td>3726</td>\n",
       "    </tr>\n",
       "    <tr>\n",
       "      <th>4</th>\n",
       "      <td>4</td>\n",
       "      <td>ENSG00000239945</td>\n",
       "      <td>RP11-34P13.8</td>\n",
       "      <td>1319</td>\n",
       "    </tr>\n",
       "  </tbody>\n",
       "</table>\n",
       "</div>"
      ],
      "text/plain": [
       "   soma_joinid       feature_id  feature_name  feature_length\n",
       "0            0  ENSG00000243485   MIR1302-2HG            1021\n",
       "1            1  ENSG00000237613       FAM138A            1219\n",
       "2            2  ENSG00000186092         OR4F5            2618\n",
       "3            3  ENSG00000238009  RP11-34P13.7            3726\n",
       "4            4  ENSG00000239945  RP11-34P13.8            1319"
      ]
     },
     "execution_count": 13,
     "metadata": {},
     "output_type": "execute_result"
    }
   ],
   "source": [
    "var_df.head()"
   ]
  },
  {
   "attachments": {},
   "cell_type": "markdown",
   "metadata": {},
   "source": [
    "## Identifying genes measured in a specific dataset."
   ]
  },
  {
   "cell_type": "code",
   "execution_count": 14,
   "metadata": {},
   "outputs": [],
   "source": [
    "var_joinid = var_df.loc[var_df.feature_id == \"ENSG00000286096\"].soma_joinid"
   ]
  },
  {
   "cell_type": "code",
   "execution_count": 15,
   "metadata": {},
   "outputs": [
    {
     "data": {
      "text/plain": [
       "60395    60395\n",
       "Name: soma_joinid, dtype: int64"
      ]
     },
     "execution_count": 15,
     "metadata": {},
     "output_type": "execute_result"
    }
   ],
   "source": [
    "var_joinid"
   ]
  },
  {
   "cell_type": "code",
   "execution_count": 16,
   "metadata": {},
   "outputs": [],
   "source": [
    "dataset_joinid = datasets_df.loc[datasets_df.dataset_id == \"97a17473-e2b1-4f31-a544-44a60773e2dd\"].soma_joinid"
   ]
  },
  {
   "cell_type": "code",
   "execution_count": 17,
   "metadata": {},
   "outputs": [
    {
     "data": {
      "text/plain": [
       "448    448\n",
       "Name: soma_joinid, dtype: int64"
      ]
     },
     "execution_count": 17,
     "metadata": {},
     "output_type": "execute_result"
    }
   ],
   "source": [
    "dataset_joinid"
   ]
  },
  {
   "cell_type": "code",
   "execution_count": 18,
   "metadata": {},
   "outputs": [],
   "source": [
    "is_present = presence_matrix[dataset_joinid, var_joinid][0, 0]"
   ]
  },
  {
   "cell_type": "code",
   "execution_count": 20,
   "metadata": {},
   "outputs": [
    {
     "name": "stdout",
     "output_type": "stream",
     "text": [
      "Feature is present.\n"
     ]
    }
   ],
   "source": [
    "print(f'Feature is {\"present\" if is_present else \"not present\"}.')"
   ]
  },
  {
   "attachments": {},
   "cell_type": "markdown",
   "metadata": {},
   "source": [
    "## Identifying datasets that measured specific genes"
   ]
  },
  {
   "cell_type": "code",
   "execution_count": 22,
   "metadata": {},
   "outputs": [],
   "source": [
    "# Grab the feature's soma_joinid from the var dataframe\n",
    "var_joinid = var_df.loc[var_df.feature_id == \"ENSG00000286096\"].soma_joinid"
   ]
  },
  {
   "cell_type": "code",
   "execution_count": 23,
   "metadata": {},
   "outputs": [
    {
     "data": {
      "text/plain": [
       "60395    60395\n",
       "Name: soma_joinid, dtype: int64"
      ]
     },
     "execution_count": 23,
     "metadata": {},
     "output_type": "execute_result"
    }
   ],
   "source": [
    "var_joinid"
   ]
  },
  {
   "cell_type": "code",
   "execution_count": 24,
   "metadata": {},
   "outputs": [],
   "source": [
    "# The presence matrix is indexed by the joinids of the dataset and var dataframes,\n",
    "# so slice out the feature of interest by its joinid.\n",
    "dataset_joinids = presence_matrix[:, var_joinid].tocoo().row"
   ]
  },
  {
   "cell_type": "code",
   "execution_count": 25,
   "metadata": {},
   "outputs": [
    {
     "data": {
      "text/plain": [
       "array([105, 109, 126, 131, 141, 142, 143, 144, 149, 162, 163, 172, 174,\n",
       "       186, 209, 211, 215, 236, 239, 444, 445, 446, 447, 448], dtype=int32)"
      ]
     },
     "execution_count": 25,
     "metadata": {},
     "output_type": "execute_result"
    }
   ],
   "source": [
    "dataset_joinids"
   ]
  },
  {
   "cell_type": "code",
   "execution_count": 27,
   "metadata": {},
   "outputs": [
    {
     "data": {
      "text/html": [
       "<div>\n",
       "<style scoped>\n",
       "    .dataframe tbody tr th:only-of-type {\n",
       "        vertical-align: middle;\n",
       "    }\n",
       "\n",
       "    .dataframe tbody tr th {\n",
       "        vertical-align: top;\n",
       "    }\n",
       "\n",
       "    .dataframe thead th {\n",
       "        text-align: right;\n",
       "    }\n",
       "</style>\n",
       "<table border=\"1\" class=\"dataframe\">\n",
       "  <thead>\n",
       "    <tr style=\"text-align: right;\">\n",
       "      <th></th>\n",
       "      <th>soma_joinid</th>\n",
       "      <th>collection_id</th>\n",
       "      <th>collection_name</th>\n",
       "      <th>collection_doi</th>\n",
       "      <th>dataset_id</th>\n",
       "      <th>dataset_title</th>\n",
       "      <th>dataset_h5ad_path</th>\n",
       "      <th>dataset_total_cell_count</th>\n",
       "    </tr>\n",
       "  </thead>\n",
       "  <tbody>\n",
       "    <tr>\n",
       "      <th>105</th>\n",
       "      <td>105</td>\n",
       "      <td>283d65eb-dd53-496d-adb7-7570c7caa443</td>\n",
       "      <td>Transcriptomic diversity of cell types across ...</td>\n",
       "      <td>10.1101/2022.10.12.511898</td>\n",
       "      <td>fe1a73ab-a203-45fd-84e9-0f7fd19efcbd</td>\n",
       "      <td>Dissection: Amygdaloid complex (AMY) - basolat...</td>\n",
       "      <td>fe1a73ab-a203-45fd-84e9-0f7fd19efcbd.h5ad</td>\n",
       "      <td>35285</td>\n",
       "    </tr>\n",
       "    <tr>\n",
       "      <th>109</th>\n",
       "      <td>109</td>\n",
       "      <td>283d65eb-dd53-496d-adb7-7570c7caa443</td>\n",
       "      <td>Transcriptomic diversity of cell types across ...</td>\n",
       "      <td>10.1101/2022.10.12.511898</td>\n",
       "      <td>f8dda921-5fb4-4c94-a654-c6fc346bfd6d</td>\n",
       "      <td>Dissection: Cerebral cortex (Cx) - Occipitotem...</td>\n",
       "      <td>f8dda921-5fb4-4c94-a654-c6fc346bfd6d.h5ad</td>\n",
       "      <td>31899</td>\n",
       "    </tr>\n",
       "    <tr>\n",
       "      <th>126</th>\n",
       "      <td>126</td>\n",
       "      <td>283d65eb-dd53-496d-adb7-7570c7caa443</td>\n",
       "      <td>Transcriptomic diversity of cell types across ...</td>\n",
       "      <td>10.1101/2022.10.12.511898</td>\n",
       "      <td>dd03ce70-3243-4c96-9561-330cc461e4d7</td>\n",
       "      <td>Dissection: Cerebral cortex (Cx) - Perirhinal ...</td>\n",
       "      <td>dd03ce70-3243-4c96-9561-330cc461e4d7.h5ad</td>\n",
       "      <td>23732</td>\n",
       "    </tr>\n",
       "    <tr>\n",
       "      <th>131</th>\n",
       "      <td>131</td>\n",
       "      <td>283d65eb-dd53-496d-adb7-7570c7caa443</td>\n",
       "      <td>Transcriptomic diversity of cell types across ...</td>\n",
       "      <td>10.1101/2022.10.12.511898</td>\n",
       "      <td>d2b5efc1-14c6-4b5f-bd98-40f9084872d7</td>\n",
       "      <td>Dissection: Tail of Hippocampus (HiT) - Caudal...</td>\n",
       "      <td>d2b5efc1-14c6-4b5f-bd98-40f9084872d7.h5ad</td>\n",
       "      <td>36886</td>\n",
       "    </tr>\n",
       "    <tr>\n",
       "      <th>141</th>\n",
       "      <td>141</td>\n",
       "      <td>283d65eb-dd53-496d-adb7-7570c7caa443</td>\n",
       "      <td>Transcriptomic diversity of cell types across ...</td>\n",
       "      <td>10.1101/2022.10.12.511898</td>\n",
       "      <td>c4b03352-af8d-492a-8d6b-40f304e0a122</td>\n",
       "      <td>Supercluster: Medium spiny neuron</td>\n",
       "      <td>c4b03352-af8d-492a-8d6b-40f304e0a122.h5ad</td>\n",
       "      <td>152189</td>\n",
       "    </tr>\n",
       "  </tbody>\n",
       "</table>\n",
       "</div>"
      ],
      "text/plain": [
       "     soma_joinid                         collection_id  \\\n",
       "105          105  283d65eb-dd53-496d-adb7-7570c7caa443   \n",
       "109          109  283d65eb-dd53-496d-adb7-7570c7caa443   \n",
       "126          126  283d65eb-dd53-496d-adb7-7570c7caa443   \n",
       "131          131  283d65eb-dd53-496d-adb7-7570c7caa443   \n",
       "141          141  283d65eb-dd53-496d-adb7-7570c7caa443   \n",
       "\n",
       "                                       collection_name  \\\n",
       "105  Transcriptomic diversity of cell types across ...   \n",
       "109  Transcriptomic diversity of cell types across ...   \n",
       "126  Transcriptomic diversity of cell types across ...   \n",
       "131  Transcriptomic diversity of cell types across ...   \n",
       "141  Transcriptomic diversity of cell types across ...   \n",
       "\n",
       "                collection_doi                            dataset_id  \\\n",
       "105  10.1101/2022.10.12.511898  fe1a73ab-a203-45fd-84e9-0f7fd19efcbd   \n",
       "109  10.1101/2022.10.12.511898  f8dda921-5fb4-4c94-a654-c6fc346bfd6d   \n",
       "126  10.1101/2022.10.12.511898  dd03ce70-3243-4c96-9561-330cc461e4d7   \n",
       "131  10.1101/2022.10.12.511898  d2b5efc1-14c6-4b5f-bd98-40f9084872d7   \n",
       "141  10.1101/2022.10.12.511898  c4b03352-af8d-492a-8d6b-40f304e0a122   \n",
       "\n",
       "                                         dataset_title  \\\n",
       "105  Dissection: Amygdaloid complex (AMY) - basolat...   \n",
       "109  Dissection: Cerebral cortex (Cx) - Occipitotem...   \n",
       "126  Dissection: Cerebral cortex (Cx) - Perirhinal ...   \n",
       "131  Dissection: Tail of Hippocampus (HiT) - Caudal...   \n",
       "141                  Supercluster: Medium spiny neuron   \n",
       "\n",
       "                             dataset_h5ad_path  dataset_total_cell_count  \n",
       "105  fe1a73ab-a203-45fd-84e9-0f7fd19efcbd.h5ad                     35285  \n",
       "109  f8dda921-5fb4-4c94-a654-c6fc346bfd6d.h5ad                     31899  \n",
       "126  dd03ce70-3243-4c96-9561-330cc461e4d7.h5ad                     23732  \n",
       "131  d2b5efc1-14c6-4b5f-bd98-40f9084872d7.h5ad                     36886  \n",
       "141  c4b03352-af8d-492a-8d6b-40f304e0a122.h5ad                    152189  "
      ]
     },
     "execution_count": 27,
     "metadata": {},
     "output_type": "execute_result"
    }
   ],
   "source": [
    "# From the datasets dataframe, slice out the datasets which have a joinid in the list\n",
    "datasets_df.loc[datasets_df.soma_joinid.isin(dataset_joinids)].head()"
   ]
  },
  {
   "attachments": {},
   "cell_type": "markdown",
   "metadata": {},
   "source": [
    "## Identifying all genes measured in a dataset"
   ]
  },
  {
   "cell_type": "code",
   "execution_count": 28,
   "metadata": {},
   "outputs": [],
   "source": [
    "# Slice the dataset(s) of interest, and get the joinid(s)\n",
    "dataset_joinids = datasets_df.loc[datasets_df.collection_id == \"17481d16-ee44-49e5-bcf0-28c0780d8c4a\"].soma_joinid"
   ]
  },
  {
   "cell_type": "code",
   "execution_count": 29,
   "metadata": {},
   "outputs": [
    {
     "data": {
      "text/plain": [
       "311    311\n",
       "312    312\n",
       "Name: soma_joinid, dtype: int64"
      ]
     },
     "execution_count": 29,
     "metadata": {},
     "output_type": "execute_result"
    }
   ],
   "source": [
    "dataset_joinids"
   ]
  },
  {
   "cell_type": "code",
   "execution_count": 30,
   "metadata": {},
   "outputs": [],
   "source": [
    "# Slice the presence matrix by the first dimension, i.e., by dataset\n",
    "var_joinids = presence_matrix[dataset_joinids, :].tocoo().col"
   ]
  },
  {
   "cell_type": "code",
   "execution_count": 31,
   "metadata": {},
   "outputs": [
    {
     "data": {
      "text/plain": [
       "array([    3,     4,    13, ..., 58043, 58688, 58928], dtype=int32)"
      ]
     },
     "execution_count": 31,
     "metadata": {},
     "output_type": "execute_result"
    }
   ],
   "source": [
    "var_joinids"
   ]
  },
  {
   "cell_type": "code",
   "execution_count": 33,
   "metadata": {},
   "outputs": [
    {
     "data": {
      "text/html": [
       "<div>\n",
       "<style scoped>\n",
       "    .dataframe tbody tr th:only-of-type {\n",
       "        vertical-align: middle;\n",
       "    }\n",
       "\n",
       "    .dataframe tbody tr th {\n",
       "        vertical-align: top;\n",
       "    }\n",
       "\n",
       "    .dataframe thead th {\n",
       "        text-align: right;\n",
       "    }\n",
       "</style>\n",
       "<table border=\"1\" class=\"dataframe\">\n",
       "  <thead>\n",
       "    <tr style=\"text-align: right;\">\n",
       "      <th></th>\n",
       "      <th>soma_joinid</th>\n",
       "      <th>feature_id</th>\n",
       "      <th>feature_name</th>\n",
       "      <th>feature_length</th>\n",
       "    </tr>\n",
       "  </thead>\n",
       "  <tbody>\n",
       "    <tr>\n",
       "      <th>3</th>\n",
       "      <td>3</td>\n",
       "      <td>ENSG00000238009</td>\n",
       "      <td>RP11-34P13.7</td>\n",
       "      <td>3726</td>\n",
       "    </tr>\n",
       "    <tr>\n",
       "      <th>4</th>\n",
       "      <td>4</td>\n",
       "      <td>ENSG00000239945</td>\n",
       "      <td>RP11-34P13.8</td>\n",
       "      <td>1319</td>\n",
       "    </tr>\n",
       "    <tr>\n",
       "      <th>13</th>\n",
       "      <td>13</td>\n",
       "      <td>ENSG00000229905</td>\n",
       "      <td>RP11-206L10.4</td>\n",
       "      <td>456</td>\n",
       "    </tr>\n",
       "    <tr>\n",
       "      <th>14</th>\n",
       "      <td>14</td>\n",
       "      <td>ENSG00000237491</td>\n",
       "      <td>LINC01409</td>\n",
       "      <td>8413</td>\n",
       "    </tr>\n",
       "    <tr>\n",
       "      <th>15</th>\n",
       "      <td>15</td>\n",
       "      <td>ENSG00000177757</td>\n",
       "      <td>FAM87B</td>\n",
       "      <td>1947</td>\n",
       "    </tr>\n",
       "  </tbody>\n",
       "</table>\n",
       "</div>"
      ],
      "text/plain": [
       "    soma_joinid       feature_id   feature_name  feature_length\n",
       "3             3  ENSG00000238009   RP11-34P13.7            3726\n",
       "4             4  ENSG00000239945   RP11-34P13.8            1319\n",
       "13           13  ENSG00000229905  RP11-206L10.4             456\n",
       "14           14  ENSG00000237491      LINC01409            8413\n",
       "15           15  ENSG00000177757         FAM87B            1947"
      ]
     },
     "execution_count": 33,
     "metadata": {},
     "output_type": "execute_result"
    }
   ],
   "source": [
    "# From the feature (var) dataframe, slice out features which have a joinid in the list.\n",
    "var_df.loc[var_df.soma_joinid.isin(var_joinids)].head()"
   ]
  },
  {
   "cell_type": "code",
   "execution_count": null,
   "metadata": {},
   "outputs": [],
   "source": []
  }
 ],
 "metadata": {
  "kernelspec": {
   "display_name": "python3.10",
   "language": "python",
   "name": "ipy3.10"
  },
  "language_info": {
   "codemirror_mode": {
    "name": "ipython",
    "version": 3
   },
   "file_extension": ".py",
   "mimetype": "text/x-python",
   "name": "python",
   "nbconvert_exporter": "python",
   "pygments_lexer": "ipython3",
   "version": "3.10.11"
  },
  "orig_nbformat": 4
 },
 "nbformat": 4,
 "nbformat_minor": 2
}

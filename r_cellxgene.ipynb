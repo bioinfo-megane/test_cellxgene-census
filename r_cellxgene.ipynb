{
 "cells": [
  {
   "cell_type": "code",
   "execution_count": 1,
   "id": "d7347d9d-0550-4335-b427-da9c2836a0f8",
   "metadata": {
    "vscode": {
     "languageId": "r"
    }
   },
   "outputs": [
    {
     "name": "stderr",
     "output_type": "stream",
     "text": [
      "Downloading GitHub repo chanzuckerberg/cellxgene-census@HEAD\n",
      "\n"
     ]
    },
    {
     "name": "stdout",
     "output_type": "stream",
     "text": [
      "tiledb     (0.19.1 -> 0.19.1.5  ) [CRAN]\n",
      "tiledbsoma (NA     -> 0.0.0.9025) [CRAN]\n"
     ]
    },
    {
     "name": "stderr",
     "output_type": "stream",
     "text": [
      "Installing 2 packages: tiledb, tiledbsoma\n",
      "\n",
      "Warning message in i.p(...):\n",
      "\"installation of package 'tiledb' had non-zero exit status\"\n",
      "Warning message in i.p(...):\n",
      "\"installation of package 'tiledbsoma' had non-zero exit status\"\n",
      "Updating HTML index of packages in '.Library'\n",
      "\n",
      "Making 'packages.html' ...\n",
      " done\n",
      "\n",
      "Running `R CMD build`...\n",
      "\n"
     ]
    },
    {
     "name": "stdout",
     "output_type": "stream",
     "text": [
      "* checking for file '/private/var/folders/3v/rcm3ms3d7bz92d93sz93gf640000gn/T/RtmpiJ9lzs/remotes376886ffa77/chanzuckerberg-cellxgene-census-e708d54/api/r/cellxgene.census/DESCRIPTION' ... OK\n",
      "* preparing 'cellxgene.census':\n",
      "* checking DESCRIPTION meta-information ... OK\n",
      "* checking for LF line-endings in source and make files and shell scripts\n",
      "* checking for empty or unneeded directories\n",
      "* building 'cellxgene.census_0.0.0.9000.tar.gz'\n"
     ]
    },
    {
     "name": "stderr",
     "output_type": "stream",
     "text": [
      "Warning message in i.p(...):\n",
      "\"installation of package '/var/folders/3v/rcm3ms3d7bz92d93sz93gf640000gn/T//RtmpiJ9lzs/file376814a45a35/cellxgene.census_0.0.0.9000.tar.gz' had non-zero exit status\"\n"
     ]
    }
   ],
   "source": [
    "remotes::install_github(\"chanzuckerberg/cellxgene-census/api/r/cellxgene.census\")"
   ]
  },
  {
   "cell_type": "code",
   "execution_count": null,
   "id": "4f37e744",
   "metadata": {
    "vscode": {
     "languageId": "r"
    }
   },
   "outputs": [],
   "source": []
  }
 ],
 "metadata": {
  "kernelspec": {
   "display_name": "R4.2",
   "language": "R",
   "name": "ir4.2"
  },
  "language_info": {
   "codemirror_mode": "r",
   "file_extension": ".r",
   "mimetype": "text/x-r-source",
   "name": "R",
   "pygments_lexer": "r",
   "version": "4.2.3"
  }
 },
 "nbformat": 4,
 "nbformat_minor": 5
}
